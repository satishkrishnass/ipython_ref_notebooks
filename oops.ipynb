{
 "cells": [
  {
   "cell_type": "markdown",
   "metadata": {},
   "source": [
    "###  class : \n",
    "\n",
    "* it acts as blue print for objects\n",
    "* class contain both variables(state) and methods(behaviour)\n",
    "\n",
    "#### Object : \n",
    "\n",
    "* pyhsical existance of class\n",
    "* for a class 'n' number of objects can be created.\n",
    "\n",
    "#### Types of variables:\n",
    "\n",
    "* Instance variables ( Object level variables)\n",
    "* Static Variables ( Class Level variables)\n",
    "* Local Variables ( Method Level variables)\n",
    "\n",
    "#### Types of methods:\n",
    "\n",
    "* instance ( self is the first argument to it)\n",
    "* class method\n",
    "* static method\n",
    "\n",
    "#### About self variable in class:\n",
    "\n",
    "* self ( we can use any variable name in place of this) is implicit default variable - always pointing to current object by     using self we can access object related variables ( instance variables)     and object related methods( instance methods)\n",
    "\n",
    "* we don't need to provide value for self from any method calling , python by default will provide it.\n",
    "\n",
    "#### __init__(self): - constructor name\n",
    "\n",
    "* it can be called explicitly"
   ]
  },
  {
   "cell_type": "code",
   "execution_count": 11,
   "metadata": {},
   "outputs": [],
   "source": [
    "####  How to define python class:\n",
    "\n",
    "## class className:\n",
    "        #''' documentaion string'''\n",
    "    # variables:\n",
    "    # methods:\n",
    "    \n",
    "    \n",
    "# in functional programming we have two types of variables:\n",
    "# local and global\n",
    "# but in object oriented programmin class can contain three types of variables\n",
    "# instance , static and local variable\n",
    "# types of methods:\n",
    "# instance , static and class methods"
   ]
  },
  {
   "cell_type": "code",
   "execution_count": 9,
   "metadata": {},
   "outputs": [
    {
     "name": "stdout",
     "output_type": "stream",
     "text": [
      "name is  satya and age is  25\n"
     ]
    }
   ],
   "source": [
    "class Student:\n",
    "    ''' doc string is not mandatory '''\n",
    "    def __init__(self):   # constructor\n",
    "        self.name = 'satya'\n",
    "        self.age = 25\n",
    "    def dis(self): # no need to provide value for self \n",
    "        print('name is ',self.name,'and age is ',self.age)\n",
    "s = Student()\n",
    "s.dis()"
   ]
  },
  {
   "cell_type": "code",
   "execution_count": 19,
   "metadata": {},
   "outputs": [
    {
     "name": "stdout",
     "output_type": "stream",
     "text": [
      "name is  satya and age is  24\n"
     ]
    }
   ],
   "source": [
    "class Person:\n",
    "    def __init__(self,name,age):\n",
    "        self.name = name\n",
    "        self.age= age\n",
    "    def dis(self):\n",
    "        print('name is ',self.name ,'and age is ',self.age)\n",
    "    \n",
    "p = Person('satya',24)\n",
    "p.dis()  # no need to provide value for self   \n",
    "\n",
    "# self is implicit default variable - always pointing to current object\n",
    "# by using self we can access object related variables ( instance variables) \n",
    "# and object related methods( instance methods)"
   ]
  },
  {
   "cell_type": "code",
   "execution_count": 21,
   "metadata": {},
   "outputs": [
    {
     "name": "stdout",
     "output_type": "stream",
     "text": [
      "name is  kiran and age is  33\n",
      "name is  chethan and age is  22\n",
      "name is  muni and age is  22\n"
     ]
    }
   ],
   "source": [
    "persons = [Person('kiran',33),Person('chethan',22),Person('muni',22)]\n",
    "for person in persons:\n",
    "    person.dis()\n",
    "    "
   ]
  },
  {
   "cell_type": "code",
   "execution_count": 13,
   "metadata": {},
   "outputs": [],
   "source": [
    "class Test:\n",
    "    pass\n",
    "\n",
    "t = Test()\n"
   ]
  },
  {
   "cell_type": "code",
   "execution_count": 16,
   "metadata": {},
   "outputs": [],
   "source": [
    "class Can:\n",
    "    def __int__():\n",
    "        print('const')\n",
    "        \n",
    "t=Can()"
   ]
  },
  {
   "cell_type": "code",
   "execution_count": 18,
   "metadata": {},
   "outputs": [
    {
     "ename": "TypeError",
     "evalue": "__init__() missing 1 required positional argument: 'arg'",
     "output_type": "error",
     "traceback": [
      "\u001b[1;31m---------------------------------------------------------------------------\u001b[0m",
      "\u001b[1;31mTypeError\u001b[0m                                 Traceback (most recent call last)",
      "\u001b[1;32m<ipython-input-18-4f22397bc2e1>\u001b[0m in \u001b[0;36m<module>\u001b[1;34m\u001b[0m\n\u001b[0;32m      5\u001b[0m         \u001b[0mprint\u001b[0m\u001b[1;33m(\u001b[0m\u001b[1;34m' one ar'\u001b[0m\u001b[1;33m)\u001b[0m\u001b[1;33m\u001b[0m\u001b[1;33m\u001b[0m\u001b[0m\n\u001b[0;32m      6\u001b[0m \u001b[1;33m\u001b[0m\u001b[0m\n\u001b[1;32m----> 7\u001b[1;33m \u001b[0mt\u001b[0m \u001b[1;33m=\u001b[0m \u001b[0mNum\u001b[0m\u001b[1;33m(\u001b[0m\u001b[1;33m)\u001b[0m\u001b[1;33m\u001b[0m\u001b[1;33m\u001b[0m\u001b[0m\n\u001b[0m",
      "\u001b[1;31mTypeError\u001b[0m: __init__() missing 1 required positional argument: 'arg'"
     ]
    }
   ],
   "source": [
    "class Num:\n",
    "    def __init__(self):\n",
    "        print('no arg')\n",
    "    def __init__(self,arg):  ## it is considered\n",
    "        print(' one ar')\n",
    "    \n",
    "t = Num()"
   ]
  },
  {
   "cell_type": "markdown",
   "metadata": {},
   "source": [
    "####  diff b/n constructor and method:\n",
    "\n",
    "#### Method:\n",
    "\n",
    "* method name can be anything\n",
    "* methods should be called explicitly\n",
    "* per object, method can be called any number of times\n",
    "* used to write business logic\n",
    "\n",
    "#### Constructor\n",
    "\n",
    "* __init__()\n",
    "* will be executed automatically and called only once per object\n",
    "* used to declare and initialize instance variables"
   ]
  },
  {
   "cell_type": "code",
   "execution_count": 23,
   "metadata": {},
   "outputs": [
    {
     "name": "stdout",
     "output_type": "stream",
     "text": [
      "bahubali   prabhas\n"
     ]
    }
   ],
   "source": [
    "# with out constuctor, how to initialize \n",
    "\n",
    "class Movie:\n",
    "    def info(self):\n",
    "        print(self.name,' ',self.hero)\n",
    "m = Movie()\n",
    "m.name ='bahubali'\n",
    "m.hero='prabhas'\n",
    "m.info()\n",
    "\n",
    "## if you have hundred movies it would be difficult"
   ]
  },
  {
   "cell_type": "code",
   "execution_count": 27,
   "metadata": {},
   "outputs": [
    {
     "name": "stdout",
     "output_type": "stream",
     "text": [
      "kick   raviteja\n"
     ]
    }
   ],
   "source": [
    "# with out constuctor, how to initialize\n",
    "# instance method to initialize variables\n",
    "\n",
    "class Movie:\n",
    "    def cons(self,name,hero):\n",
    "        self.name = name\n",
    "        self.hero= hero\n",
    "    def info(self):\n",
    "        print(self.name,' ',self.hero)\n",
    "        \n",
    "m = Movie()\n",
    "m.cons('kick','raviteja')\n",
    "m.info()\n",
    "\n",
    "## lenght of code increased."
   ]
  },
  {
   "cell_type": "markdown",
   "metadata": {},
   "source": [
    "### Types of variables:\n",
    "\n",
    "* Instance variables ( Object level variables)\n",
    "* Static Variables ( Class Level variables)\n",
    "* Local Variables ( Method Level variables)\n",
    "\n"
   ]
  },
  {
   "cell_type": "markdown",
   "metadata": {},
   "source": [
    "### Instance variables ( Object level variables)\n",
    "\n",
    "* if value of a variable is varied from object to object then it is called instance or object level variable.\n",
    "* a seperate copy of instance variable will be created for every object\n",
    "\n",
    "#### Where we declare \n",
    "\n",
    "* inside of class constructor using self\n",
    "* inside of class instance method using self \n",
    "* ouside of class by using object reference variable"
   ]
  },
  {
   "cell_type": "code",
   "execution_count": 31,
   "metadata": {},
   "outputs": [
    {
     "name": "stdout",
     "output_type": "stream",
     "text": [
      " doc string is not mandatory \n",
      "{'name': 'satya', 'age': 25}\n"
     ]
    }
   ],
   "source": [
    "class Student:\n",
    "    ''' doc string is not mandatory '''\n",
    "    def __init__(self):   # constructor\n",
    "        self.name = 'satya'\n",
    "        self.age = 25\n",
    "    def dis(self): # no need to provide value for self \n",
    "        print('name is ',self.name,'and age is ',self.age)\n",
    "s = Student()\n",
    "print(s.__doc__)  # doc \n",
    "print(s.__dict__)  # student instance variable and values related to obj s.\n",
    "# obj related dict means instance variables only"
   ]
  },
  {
   "cell_type": "code",
   "execution_count": 36,
   "metadata": {},
   "outputs": [
    {
     "name": "stdout",
     "output_type": "stream",
     "text": [
      "{'a': 3}\n",
      "{'a': 3, 'b': 5, 'c': 9}\n",
      "{'a': 3, 'b': 5, 'c': 4}\n"
     ]
    }
   ],
   "source": [
    "class Test:\n",
    "    def __init__(self):\n",
    "        self.a = 3  ## inside constructor\n",
    "    def call(self):\n",
    "        self.b = 5  # inside instance method\n",
    "        self.c= 9   # have a look \n",
    "t = Test()\n",
    "print(t.__dict__)\n",
    "# still here only constructor ran so only one instance variables\n",
    "# to get 'b' we need to call 'call' method\n",
    "t.call()\n",
    "print(t.__dict__)\n",
    "t.c=4           # outside class\n",
    "print(t.__dict__)"
   ]
  },
  {
   "cell_type": "markdown",
   "metadata": {},
   "source": [
    "### How to access instance variable:\n",
    "\n",
    "* inside class by using self variable.\n",
    "* outside by using obj ref variable\n",
    "\n",
    "### How to delete instance variable:\n",
    "\n",
    "* within the class del self.variableName\n",
    "* outside the class del objRef.variableName"
   ]
  },
  {
   "cell_type": "markdown",
   "metadata": {},
   "source": [
    "###  Static Variables ( Class Level variables)\n",
    "\n",
    "* variable value doesn't change for all objects, like school name of all students\n",
    "\n",
    "#### Where we declare:\n",
    "\n",
    "* within the class directly outside of any method.\n",
    "* inside constuctor by using className\n",
    "* inside instance method by using className\n",
    "* inside class method by using cls variable or className\n",
    "* inside static method by using className\n",
    "\n",
    "#### Accessed by :\n",
    "\n",
    "* by using object ref by can't modify and delete by using obj ref\n",
    "* or by using class name\n",
    "\n",
    "#### To change static varaible :\n",
    "\n",
    "* changed by class name\n",
    "\n",
    "#### if we have static and instance with same name then, we can access instance by using obj ref variable and static by using Class name"
   ]
  },
  {
   "cell_type": "code",
   "execution_count": 47,
   "metadata": {
    "collapsed": true
   },
   "outputs": [
    {
     "name": "stdout",
     "output_type": "stream",
     "text": [
      "by using class name  bapuji\n",
      " student name is  satya roll no is  25   and school name is  bapuji\n",
      " student name is  murali roll no is  24   and school name is  bapuji\n",
      " student name is  satya roll no is  25   and school name is  chaitanya\n",
      " student name is  murali roll no is  24   and school name is  bapuji\n",
      "after changing static by using class name\n",
      " student name is  satya roll no is  25   and school name is  chaitanya\n",
      " student name is  murali roll no is  24   and school name is  Narayana\n"
     ]
    }
   ],
   "source": [
    "class Student:\n",
    "    schoolName = 'bapuji'\n",
    "    def __init__(self,name,rollno):\n",
    "        self.name = name\n",
    "        self.rollno = rollno\n",
    "    def dis(self):\n",
    "        print(' student name is ',self.name,'roll no is ', self.rollno, '  and school name is ',self.schoolName)\n",
    "\n",
    "print(\"by using class name \",Student.schoolName) \n",
    "s1 = Student('satya',25)\n",
    "s2 = Student('murali',24)\n",
    "s1.dis()\n",
    "s2.dis()\n",
    "\n",
    "s1.schoolName = 'chaitanya' # it is creation of instance variable\n",
    "\n",
    "s1.dis()\n",
    "s2.dis()\n",
    "\n",
    "Student.schoolName = 'Narayana' # changing static variable by class name only\n",
    "print('after changing static by using class name')\n",
    "s1.dis()\n",
    "s2.dis() \n",
    " \n",
    "\n",
    "\n",
    "\n",
    "    "
   ]
  },
  {
   "cell_type": "markdown",
   "metadata": {},
   "source": [
    "#### Where we declare:\n",
    "\n",
    "* within the class directly outside of any method.\n",
    "* inside constuctor by using className\n",
    "* inside instance method by using className\n",
    "* inside class method by using cls variable or className\n",
    "* inside static method by using className\n",
    "* from outside of class by using className"
   ]
  },
  {
   "cell_type": "code",
   "execution_count": 66,
   "metadata": {},
   "outputs": [
    {
     "name": "stdout",
     "output_type": "stream",
     "text": [
      "2\n",
      "5\n",
      "7\n",
      "9\n",
      "{'__module__': '__main__', 'a': 2, '__init__': <function Test.__init__ at 0x0000025287C01D38>, 'm': <function Test.m at 0x0000025287C01CA8>, 'm2': <classmethod object at 0x0000025287C081C8>, 'm3': <staticmethod object at 0x0000025287B4FF08>, '__dict__': <attribute '__dict__' of 'Test' objects>, '__weakref__': <attribute '__weakref__' of 'Test' objects>, '__doc__': None, 'g': 9, 'f': 7, 'd': 5, 'e': 6}\n"
     ]
    }
   ],
   "source": [
    "# static variable declaration.\n",
    "# cls represents current class \n",
    "\n",
    "class Test:\n",
    "    a = 2\n",
    "    def __init__(self):\n",
    "        Test.b = 3\n",
    "    def m(self):\n",
    "        Test.c = 4\n",
    "    @classmethod\n",
    "    def m2(cls):\n",
    "        cls.d= 5\n",
    "        Test.e=6\n",
    "    @staticmethod\n",
    "    def m3():      # won't take cls or self, it is indepent we can take args\n",
    "        Test.f = 7\n",
    "\n",
    "Test.g = 9        \n",
    "print(Test.a)\n",
    "Test.m3()\n",
    "Test.m2()\n",
    "print(Test.d)\n",
    "print(Test.f)\n",
    "print(Test.g)\n",
    "print(Test.__dict__)\n",
    "\n",
    "        "
   ]
  },
  {
   "cell_type": "markdown",
   "metadata": {},
   "source": [
    "### How to delete Static variable:\n",
    "\n",
    "#### outside class\n",
    "\n",
    "* del className.variableName\n",
    "\n",
    "#### inside class\n",
    "\n",
    "* del className.variableName\n",
    "* del cls.variableName"
   ]
  },
  {
   "cell_type": "code",
   "execution_count": 65,
   "metadata": {
    "collapsed": true
   },
   "outputs": [
    {
     "name": "stdout",
     "output_type": "stream",
     "text": [
      "{'__module__': '__main__', 'a': 1, 'm': <classmethod object at 0x0000025287A969C8>, '__dict__': <attribute '__dict__' of 'Test' objects>, '__weakref__': <attribute '__weakref__' of 'Test' objects>, '__doc__': None} ... \n",
      "{'__module__': '__main__', 'm': <classmethod object at 0x0000025287A969C8>, '__dict__': <attribute '__dict__' of 'Test' objects>, '__weakref__': <attribute '__weakref__' of 'Test' objects>, '__doc__': None}\n"
     ]
    }
   ],
   "source": [
    "class Test:\n",
    "    a = 1\n",
    "    @classmethod\n",
    "    def m(cls):\n",
    "        del cls.a\n",
    "        \n",
    "print(Test.__dict__ ,\"... \")\n",
    "Test.m()\n",
    "print(Test.__dict__)"
   ]
  },
  {
   "cell_type": "code",
   "execution_count": 76,
   "metadata": {
    "collapsed": true
   },
   "outputs": [
    {
     "name": "stdout",
     "output_type": "stream",
     "text": [
      "{'__module__': '__main__', 'a': 10, '__init__': <function Test.__init__ at 0x0000025287C0F048>, 'm1': <function Test.m1 at 0x0000025287C0FCA8>, 'm2': <classmethod object at 0x0000025287BF8948>, 'm3': <staticmethod object at 0x0000025287C08548>, '__dict__': <attribute '__dict__' of 'Test' objects>, '__weakref__': <attribute '__weakref__' of 'Test' objects>, '__doc__': None}\n",
      "{'__module__': '__main__', '__init__': <function Test.__init__ at 0x0000025287C0F048>, 'm1': <function Test.m1 at 0x0000025287C0FCA8>, 'm2': <classmethod object at 0x0000025287BF8948>, 'm3': <staticmethod object at 0x0000025287C08548>, '__dict__': <attribute '__dict__' of 'Test' objects>, '__weakref__': <attribute '__weakref__' of 'Test' objects>, '__doc__': None, 'b': 20}\n",
      "{'__module__': '__main__', '__init__': <function Test.__init__ at 0x0000025287C0F048>, 'm1': <function Test.m1 at 0x0000025287C0FCA8>, 'm2': <classmethod object at 0x0000025287BF8948>, 'm3': <staticmethod object at 0x0000025287C08548>, '__dict__': <attribute '__dict__' of 'Test' objects>, '__weakref__': <attribute '__weakref__' of 'Test' objects>, '__doc__': None, 'c': 30}\n",
      "{'__module__': '__main__', '__init__': <function Test.__init__ at 0x0000025287C0F048>, 'm1': <function Test.m1 at 0x0000025287C0FCA8>, 'm2': <classmethod object at 0x0000025287BF8948>, 'm3': <staticmethod object at 0x0000025287C08548>, '__dict__': <attribute '__dict__' of 'Test' objects>, '__weakref__': <attribute '__weakref__' of 'Test' objects>, '__doc__': None, 'd': 40}\n",
      "{'__module__': '__main__', '__init__': <function Test.__init__ at 0x0000025287C0F048>, 'm1': <function Test.m1 at 0x0000025287C0FCA8>, 'm2': <classmethod object at 0x0000025287BF8948>, 'm3': <staticmethod object at 0x0000025287C08548>, '__dict__': <attribute '__dict__' of 'Test' objects>, '__weakref__': <attribute '__weakref__' of 'Test' objects>, '__doc__': None, 'e': 50}\n"
     ]
    }
   ],
   "source": [
    "class Test:\n",
    "    a = 10\n",
    "    def __init__(self):\n",
    "        Test.b = 20\n",
    "        del Test.a \n",
    "    def m1(self):\n",
    "        Test.c = 30\n",
    "        del Test.b\n",
    "    @classmethod\n",
    "    def m2(cls):\n",
    "        cls.d = 40\n",
    "        del Test.c\n",
    "    @staticmethod\n",
    "    def m3():\n",
    "        Test.e= 50\n",
    "        del Test.d\n",
    "    \n",
    "print(Test.__dict__)\n",
    "t=Test()\n",
    "print(Test.__dict__)\n",
    "t.m1()\n",
    "print(Test.__dict__)\n",
    "Test.m2()\n",
    "print(Test.__dict__)\n",
    "Test.m3()\n",
    "print(Test.__dict__)\n"
   ]
  },
  {
   "cell_type": "markdown",
   "metadata": {},
   "source": [
    "###  Local Variables -- ( for temporary requirement)\n",
    "\n",
    "* variables, which are declared inside method or inside constructor directly without using cls,classname or self \n"
   ]
  },
  {
   "cell_type": "code",
   "execution_count": 79,
   "metadata": {},
   "outputs": [
    {
     "name": "stdout",
     "output_type": "stream",
     "text": [
      "3\n"
     ]
    },
    {
     "ename": "NameError",
     "evalue": "name 'a' is not defined",
     "output_type": "error",
     "traceback": [
      "\u001b[1;31m---------------------------------------------------------------------------\u001b[0m",
      "\u001b[1;31mNameError\u001b[0m                                 Traceback (most recent call last)",
      "\u001b[1;32m<ipython-input-79-d936171a242d>\u001b[0m in \u001b[0;36m<module>\u001b[1;34m\u001b[0m\n\u001b[0;32m      9\u001b[0m \u001b[0mt\u001b[0m \u001b[1;33m=\u001b[0m \u001b[0mTest\u001b[0m\u001b[1;33m(\u001b[0m\u001b[1;33m)\u001b[0m\u001b[1;33m\u001b[0m\u001b[1;33m\u001b[0m\u001b[0m\n\u001b[0;32m     10\u001b[0m \u001b[0mt\u001b[0m\u001b[1;33m.\u001b[0m\u001b[0mm1\u001b[0m\u001b[1;33m(\u001b[0m\u001b[1;33m)\u001b[0m\u001b[1;33m\u001b[0m\u001b[1;33m\u001b[0m\u001b[0m\n\u001b[1;32m---> 11\u001b[1;33m \u001b[0mt\u001b[0m\u001b[1;33m.\u001b[0m\u001b[0mm2\u001b[0m\u001b[1;33m(\u001b[0m\u001b[1;33m)\u001b[0m\u001b[1;33m\u001b[0m\u001b[1;33m\u001b[0m\u001b[0m\n\u001b[0m",
      "\u001b[1;32m<ipython-input-79-d936171a242d>\u001b[0m in \u001b[0;36mm2\u001b[1;34m(self)\u001b[0m\n\u001b[0;32m      5\u001b[0m     \u001b[1;32mdef\u001b[0m \u001b[0mm2\u001b[0m\u001b[1;33m(\u001b[0m\u001b[0mself\u001b[0m\u001b[1;33m)\u001b[0m\u001b[1;33m:\u001b[0m\u001b[1;33m\u001b[0m\u001b[1;33m\u001b[0m\u001b[0m\n\u001b[0;32m      6\u001b[0m         \u001b[0mb\u001b[0m \u001b[1;33m=\u001b[0m \u001b[1;36m4\u001b[0m\u001b[1;33m\u001b[0m\u001b[1;33m\u001b[0m\u001b[0m\n\u001b[1;32m----> 7\u001b[1;33m         \u001b[0mprint\u001b[0m\u001b[1;33m(\u001b[0m\u001b[0ma\u001b[0m\u001b[1;33m)\u001b[0m  \u001b[1;31m# outside m1() method a can't be accessed\u001b[0m\u001b[1;33m\u001b[0m\u001b[1;33m\u001b[0m\u001b[0m\n\u001b[0m\u001b[0;32m      8\u001b[0m \u001b[1;33m\u001b[0m\u001b[0m\n\u001b[0;32m      9\u001b[0m \u001b[0mt\u001b[0m \u001b[1;33m=\u001b[0m \u001b[0mTest\u001b[0m\u001b[1;33m(\u001b[0m\u001b[1;33m)\u001b[0m\u001b[1;33m\u001b[0m\u001b[1;33m\u001b[0m\u001b[0m\n",
      "\u001b[1;31mNameError\u001b[0m: name 'a' is not defined"
     ]
    }
   ],
   "source": [
    "class Test:\n",
    "    def m1(self):\n",
    "        a = 3\n",
    "        print(a)\n",
    "    def m2(self):\n",
    "        b = 4\n",
    "        print(a)  # outside m1() method a can't be accessed\n",
    "        \n",
    "t = Test()\n",
    "t.m1()\n",
    "t.m2()"
   ]
  },
  {
   "cell_type": "markdown",
   "metadata": {},
   "source": [
    "### Types of Methods:\n",
    "\n",
    "* instance ( self is the first argument to it)\n",
    "* class method\n",
    "* static method"
   ]
  },
  {
   "cell_type": "markdown",
   "metadata": {},
   "source": [
    "### Instance Method:\n",
    "\n",
    "* object related methods \n",
    "* if we are using instance variables inside any method then it is declared as instance method\n",
    "* and first argument should be self only and then you can pass any no of arg's\n"
   ]
  },
  {
   "cell_type": "code",
   "execution_count": 81,
   "metadata": {},
   "outputs": [
    {
     "name": "stdout",
     "output_type": "stream",
     "text": [
      "hi  sama  your marks are  44\n"
     ]
    }
   ],
   "source": [
    "class Student:\n",
    "    def __init__(self,name,marks):\n",
    "        self.name = name\n",
    "        self.marks= marks\n",
    "    def dis(self):\n",
    "        print('hi ',self.name, ' your marks are ',self.marks)\n",
    "        # inside this method we are using instance variables so it called \n",
    "        # instance method\n",
    "\n",
    "s = Student('sama',44)\n",
    "s.dis()"
   ]
  },
  {
   "cell_type": "code",
   "execution_count": 1,
   "metadata": {},
   "outputs": [],
   "source": [
    "#### if we want we can declare setters and getters for instance variables"
   ]
  },
  {
   "cell_type": "code",
   "execution_count": 2,
   "metadata": {},
   "outputs": [],
   "source": [
    "class Student:\n",
    "    def setName(self,name):\n",
    "        self.name = name\n",
    "    def getName(self):\n",
    "        return self.name"
   ]
  },
  {
   "cell_type": "markdown",
   "metadata": {},
   "source": [
    "###  class methods:\n",
    "\n",
    "* inside method implementation if we are using only static variables ( without instance variables) then we should go for class methods.\n",
    "\n",
    "** if we are using atleast one instance variable -- instance method"
   ]
  },
  {
   "cell_type": "code",
   "execution_count": 11,
   "metadata": {},
   "outputs": [
    {
     "name": "stdout",
     "output_type": "stream",
     "text": [
      "dog walks with 4 legs\n"
     ]
    }
   ],
   "source": [
    " class Animal:\n",
    "        legs=4\n",
    "        @classmethod # -------> mandatory\n",
    "        def walk(cls,name):   # name is local not instance\n",
    "            print('{} walks with {} legs'.format(name,cls.legs))\n",
    "Animal.walk('dog')"
   ]
  },
  {
   "cell_type": "markdown",
   "metadata": {},
   "source": [
    "###  Static method:\n",
    "\n",
    "* inside method if we are not using instance and static variables \n",
    "* normal utility methods\n",
    "\n",
    "#### we can call it by class name or object ref"
   ]
  },
  {
   "cell_type": "code",
   "execution_count": 12,
   "metadata": {},
   "outputs": [
    {
     "name": "stdout",
     "output_type": "stream",
     "text": [
      "the sum : 5\n"
     ]
    }
   ],
   "source": [
    "class Math:\n",
    "    \n",
    "    @staticmethod  # --- > optional\n",
    "    def add(x,y):\n",
    "        print('the sum :',x+y)\n",
    "    \n",
    "Math.add(2,3)"
   ]
  },
  {
   "cell_type": "code",
   "execution_count": 13,
   "metadata": {},
   "outputs": [
    {
     "ename": "TypeError",
     "evalue": "m1() missing 1 required positional argument: 'cls'",
     "output_type": "error",
     "traceback": [
      "\u001b[1;31m---------------------------------------------------------------------------\u001b[0m",
      "\u001b[1;31mTypeError\u001b[0m                                 Traceback (most recent call last)",
      "\u001b[1;32m<ipython-input-13-b9b4cee20341>\u001b[0m in \u001b[0;36m<module>\u001b[1;34m\u001b[0m\n\u001b[0;32m      3\u001b[0m         \u001b[0mprint\u001b[0m\u001b[1;33m(\u001b[0m\u001b[1;34m'which method it is ?'\u001b[0m\u001b[1;33m)\u001b[0m\u001b[1;33m\u001b[0m\u001b[1;33m\u001b[0m\u001b[0m\n\u001b[0;32m      4\u001b[0m \u001b[1;33m\u001b[0m\u001b[0m\n\u001b[1;32m----> 5\u001b[1;33m \u001b[0mTest\u001b[0m\u001b[1;33m.\u001b[0m\u001b[0mm1\u001b[0m\u001b[1;33m(\u001b[0m\u001b[1;33m)\u001b[0m\u001b[1;33m\u001b[0m\u001b[1;33m\u001b[0m\u001b[0m\n\u001b[0m",
      "\u001b[1;31mTypeError\u001b[0m: m1() missing 1 required positional argument: 'cls'"
     ]
    }
   ],
   "source": [
    "class Test:\n",
    "    def m1(cls):\n",
    "        print('which method it is ?')\n",
    "        \n",
    "Test.m1()"
   ]
  },
  {
   "cell_type": "code",
   "execution_count": 18,
   "metadata": {},
   "outputs": [
    {
     "name": "stdout",
     "output_type": "stream",
     "text": [
      "which method it is ?\n"
     ]
    }
   ],
   "source": [
    "Test.m1(2)  # acts as static method\n",
    " # if it is class method @classmethod is mandatory"
   ]
  },
  {
   "cell_type": "code",
   "execution_count": 17,
   "metadata": {},
   "outputs": [
    {
     "name": "stdout",
     "output_type": "stream",
     "text": [
      "which method it is ?\n"
     ]
    }
   ],
   "source": [
    "t = Test()\n",
    "t.m1()  # acts as instance method\n"
   ]
  },
  {
   "cell_type": "markdown",
   "metadata": {},
   "source": [
    "####  Accessing members of one class in another class"
   ]
  },
  {
   "cell_type": "code",
   "execution_count": 24,
   "metadata": {},
   "outputs": [
    {
     "name": "stdout",
     "output_type": "stream",
     "text": [
      "em name is  satya  and esal is  1122\n"
     ]
    }
   ],
   "source": [
    "class Emp:\n",
    "    def __init__(self,ename,esal):\n",
    "        self.ename= ename\n",
    "        self.esal = esal\n",
    "    def dis(self):\n",
    "        print('em name is ',self.ename,' and esal is ',self.esal)\n",
    "    \n",
    "class Test:\n",
    "    def modify(emp):\n",
    "        emp.esal = emp.esal + 122\n",
    "        emp.dis()\n",
    "e = Emp('satya',1000)\n",
    "Test.modify(e)"
   ]
  },
  {
   "cell_type": "markdown",
   "metadata": {},
   "source": [
    "#### by default every variable <instance,static> in python is public"
   ]
  },
  {
   "cell_type": "markdown",
   "metadata": {},
   "source": [
    "### Inner classes:\n",
    "\n",
    "* class inside another classes\n",
    "* ( without existing one type of object if there is no chance of existing another type of object, then we should go for inner classes )"
   ]
  },
  {
   "cell_type": "code",
   "execution_count": 27,
   "metadata": {},
   "outputs": [
    {
     "name": "stdout",
     "output_type": "stream",
     "text": [
      "outer class\n",
      "inner class initialization\n",
      "inner class method\n"
     ]
    }
   ],
   "source": [
    "class Outer:\n",
    "    def __init__(self):\n",
    "        print('outer class')\n",
    "    class Inner:\n",
    "        def __init__(self):\n",
    "            print('inner class initialization')\n",
    "        def m1(self):\n",
    "            print('inner class method')\n",
    "            \n",
    "Outer().Inner().m1()"
   ]
  },
  {
   "cell_type": "code",
   "execution_count": 32,
   "metadata": {},
   "outputs": [
    {
     "name": "stdout",
     "output_type": "stream",
     "text": [
      "hello  satya\n",
      "talking\n",
      "thinking\n"
     ]
    }
   ],
   "source": [
    "class Human:\n",
    "    def __init__(self,name):\n",
    "        self.name = name\n",
    "        self.head = self.Head()\n",
    "        self.brain= self.head.Brain()\n",
    "    def display(self):\n",
    "        print('hello ', self.name)\n",
    "        self.head.talk()\n",
    "        self.brain.think()\n",
    "    \n",
    "    class Head:\n",
    "        def talk(self):\n",
    "            print('talking')\n",
    "        class Brain:\n",
    "            def think(self):\n",
    "                print('thinking')\n",
    "                \n",
    "Human('satya').display()"
   ]
  },
  {
   "cell_type": "markdown",
   "metadata": {},
   "source": [
    "### Inner methods:\n",
    "\n",
    "* method specific repeated functionality.(modularity)"
   ]
  },
  {
   "cell_type": "code",
   "execution_count": 34,
   "metadata": {},
   "outputs": [
    {
     "name": "stdout",
     "output_type": "stream",
     "text": [
      "the sum  3\n"
     ]
    }
   ],
   "source": [
    "class Test:\n",
    "    def m1(self):\n",
    "        def calc(a,b):\n",
    "            print('the sum ',a+b)\n",
    "        \n",
    "        calc(1,2)\n",
    "    \n",
    "t=Test()\n",
    "t.m1()"
   ]
  },
  {
   "cell_type": "code",
   "execution_count": null,
   "metadata": {},
   "outputs": [],
   "source": []
  }
 ],
 "metadata": {
  "kernelspec": {
   "display_name": "Python 3",
   "language": "python",
   "name": "python3"
  },
  "language_info": {
   "codemirror_mode": {
    "name": "ipython",
    "version": 3
   },
   "file_extension": ".py",
   "mimetype": "text/x-python",
   "name": "python",
   "nbconvert_exporter": "python",
   "pygments_lexer": "ipython3",
   "version": "3.7.4"
  }
 },
 "nbformat": 4,
 "nbformat_minor": 2
}
