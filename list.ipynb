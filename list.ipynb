{
 "cells": [
  {
   "cell_type": "markdown",
   "metadata": {},
   "source": [
    "####  Traversing though list:\n",
    "\n",
    "* by using for or while"
   ]
  },
  {
   "cell_type": "markdown",
   "metadata": {},
   "source": [
    "#### Important functions of List:\n",
    "\n",
    "* len(list)\n",
    "* count(x) - to know no of occurences\n",
    "* index(x) - index of first occurence (throw error if element is not there0\n",
    "* l.append(x)\n",
    "* l.insert(index_pos,element) ( if index out of range no error)\n",
    "** ( index_pos - if neg it inserted in first position )\n",
    "** ( our of index then no error, inserted in last position)\n",
    "* l.extend(list) extend list with another list\n",
    "* l.remove(element) - removes element\n",
    "* l.pop(index) - return element and remove ( throw index out of range)\n",
    "* l.reverse()  - \n",
    "* l.sort()\n",
    "* copy() - cloning\n",
    "* + - both objects are list objects\n",
    "* l.clear()\n",
    "\n",
    "\n",
    " "
   ]
  },
  {
   "cell_type": "code",
   "execution_count": 4,
   "metadata": {},
   "outputs": [
    {
     "name": "stdout",
     "output_type": "stream",
     "text": [
      "hello this is function\n",
      "this is method and don't confuse with function\n"
     ]
    }
   ],
   "source": [
    "def f():\n",
    "    print('hello this is function')\n",
    "class Student:\n",
    "    def info(self):\n",
    "        print('this is method and don\\'t confuse with function')\n",
    "\n",
    "    \n",
    "f()  # function outside class \n",
    "s= Student()\n",
    "s.info()  # function inside class - method they are interchangable (but strictly)"
   ]
  },
  {
   "cell_type": "code",
   "execution_count": 6,
   "metadata": {},
   "outputs": [
    {
     "name": "stdout",
     "output_type": "stream",
     "text": [
      "enter the value5\n",
      "5 not availabe\n"
     ]
    }
   ],
   "source": [
    " l =[1,2,3]\n",
    "target = int(input('enter the value'))\n",
    "try:\n",
    "    print(target,'check for occurence',l.index(target))\n",
    "except ValueError:\n",
    "    print(target,'not availabe')"
   ]
  },
  {
   "cell_type": "code",
   "execution_count": 15,
   "metadata": {},
   "outputs": [
    {
     "data": {
      "text/plain": [
       "['a', 'n', 'm', 'n']"
      ]
     },
     "execution_count": 15,
     "metadata": {},
     "output_type": "execute_result"
    }
   ],
   "source": [
    "l = ['a','n']\n",
    "k = ['m','n']\n",
    "l.extend(k)\n",
    "l"
   ]
  },
  {
   "cell_type": "code",
   "execution_count": 16,
   "metadata": {},
   "outputs": [
    {
     "data": {
      "text/plain": [
       "['n']"
      ]
     },
     "execution_count": 16,
     "metadata": {},
     "output_type": "execute_result"
    }
   ],
   "source": [
    "l = ['a','n']\n",
    "l.remove('a')\n",
    "l"
   ]
  },
  {
   "cell_type": "code",
   "execution_count": 19,
   "metadata": {},
   "outputs": [
    {
     "ename": "IndexError",
     "evalue": "pop index out of range",
     "output_type": "error",
     "traceback": [
      "\u001b[1;31m---------------------------------------------------------------------------\u001b[0m",
      "\u001b[1;31mIndexError\u001b[0m                                Traceback (most recent call last)",
      "\u001b[1;32m<ipython-input-19-fc45e2c6b1d6>\u001b[0m in \u001b[0;36m<module>\u001b[1;34m\u001b[0m\n\u001b[0;32m      1\u001b[0m \u001b[0ml\u001b[0m \u001b[1;33m=\u001b[0m \u001b[1;33m[\u001b[0m\u001b[1;34m'a'\u001b[0m\u001b[1;33m,\u001b[0m\u001b[1;34m'n'\u001b[0m\u001b[1;33m]\u001b[0m\u001b[1;33m\u001b[0m\u001b[1;33m\u001b[0m\u001b[0m\n\u001b[1;32m----> 2\u001b[1;33m \u001b[0ml\u001b[0m\u001b[1;33m.\u001b[0m\u001b[0mpop\u001b[0m\u001b[1;33m(\u001b[0m\u001b[1;36m3\u001b[0m\u001b[1;33m)\u001b[0m\u001b[1;33m\u001b[0m\u001b[1;33m\u001b[0m\u001b[0m\n\u001b[0m",
      "\u001b[1;31mIndexError\u001b[0m: pop index out of range"
     ]
    }
   ],
   "source": [
    "l = ['a','n']\n",
    "l.pop(3)"
   ]
  },
  {
   "cell_type": "code",
   "execution_count": 25,
   "metadata": {},
   "outputs": [
    {
     "name": "stdout",
     "output_type": "stream",
     "text": [
      "['n', 'a']\n",
      "['a', 'n']\n",
      "['n', 'a']\n"
     ]
    }
   ],
   "source": [
    "l = ['a','n']\n",
    "l.reverse()\n",
    "print(l)\n",
    "l.sort()\n",
    "print(l)\n",
    "l.sort(reverse = True)  ##  to sort in reverse\n",
    "print(l)"
   ]
  },
  {
   "cell_type": "code",
   "execution_count": 26,
   "metadata": {},
   "outputs": [
    {
     "name": "stdout",
     "output_type": "stream",
     "text": [
      "['n', 'a']\n"
     ]
    }
   ],
   "source": [
    "co = l.copy()\n",
    "print(co)"
   ]
  },
  {
   "cell_type": "markdown",
   "metadata": {},
   "source": [
    "#### Comparing list objects:\n",
    "\n",
    "* x ==y \n",
    "\n",
    "1. the number of elements must be equal\n",
    "2. the order should be same\n",
    "3. and contents should be same( including case )\n",
    "\n",
    "* x>y \n",
    "* x>=y , similary <"
   ]
  },
  {
   "cell_type": "markdown",
   "metadata": {},
   "source": [
    "#### list comprehensions:\n"
   ]
  },
  {
   "cell_type": "code",
   "execution_count": 3,
   "metadata": {},
   "outputs": [
    {
     "data": {
      "text/plain": [
       "[0, 4, 16]"
      ]
     },
     "execution_count": 3,
     "metadata": {},
     "output_type": "execute_result"
    }
   ],
   "source": [
    "list = [ x*x for x in range(5)]\n",
    "l = [x for x in list if x%2==0 ]\n",
    "l"
   ]
  },
  {
   "cell_type": "code",
   "execution_count": null,
   "metadata": {},
   "outputs": [],
   "source": []
  }
 ],
 "metadata": {
  "kernelspec": {
   "display_name": "Python 3",
   "language": "python",
   "name": "python3"
  },
  "language_info": {
   "codemirror_mode": {
    "name": "ipython",
    "version": 3
   },
   "file_extension": ".py",
   "mimetype": "text/x-python",
   "name": "python",
   "nbconvert_exporter": "python",
   "pygments_lexer": "ipython3",
   "version": "3.7.4"
  }
 },
 "nbformat": 4,
 "nbformat_minor": 2
}
