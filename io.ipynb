{
 "cells": [
  {
   "cell_type": "markdown",
   "metadata": {},
   "source": [
    "#### ref v -14"
   ]
  },
  {
   "cell_type": "markdown",
   "metadata": {},
   "source": [
    "### How to read dynamic data from the keyboard:\n",
    "\n",
    "#### V-2\n",
    "* raw_input('input')  --require typecasting \n",
    "* input('input')  - not require typecasting it comes as it is whatever type is provided\n",
    "\n",
    "#### v-3\n",
    "\n",
    "* input('input')  - acts as raw_input in v-2\n"
   ]
  },
  {
   "cell_type": "code",
   "execution_count": 1,
   "metadata": {},
   "outputs": [
    {
     "name": "stdout",
     "output_type": "stream",
     "text": [
      "enter some number3\n"
     ]
    }
   ],
   "source": [
    "x = input('enter some number')"
   ]
  },
  {
   "cell_type": "code",
   "execution_count": 3,
   "metadata": {},
   "outputs": [
    {
     "data": {
      "text/plain": [
       "str"
      ]
     },
     "execution_count": 3,
     "metadata": {},
     "output_type": "execute_result"
    }
   ],
   "source": [
    "x; type(x)  # use int() to convert "
   ]
  },
  {
   "cell_type": "markdown",
   "metadata": {},
   "source": [
    "####  How to read multiple values from keyboard in single line:\n"
   ]
  },
  {
   "cell_type": "code",
   "execution_count": 5,
   "metadata": {},
   "outputs": [
    {
     "name": "stdout",
     "output_type": "stream",
     "text": [
      "enter no1 2 3\n",
      "1\n",
      "2\n",
      "3\n"
     ]
    }
   ],
   "source": [
    "for i in input('enter no').split():  # split(',') - delimeter anything use\n",
    "    print(i)"
   ]
  },
  {
   "cell_type": "code",
   "execution_count": 6,
   "metadata": {},
   "outputs": [
    {
     "name": "stdout",
     "output_type": "stream",
     "text": [
      "enter 2 numbers1 2\n"
     ]
    }
   ],
   "source": [
    "a,b = [int(x) for x in input('enter 2 numbers').split()]"
   ]
  },
  {
   "cell_type": "code",
   "execution_count": 7,
   "metadata": {},
   "outputs": [
    {
     "name": "stdout",
     "output_type": "stream",
     "text": [
      "1\n",
      "2\n"
     ]
    }
   ],
   "source": [
    "print(a);print(b)"
   ]
  },
  {
   "cell_type": "markdown",
   "metadata": {},
   "source": [
    "#### eval():\n",
    "\n",
    "* evalutes -always take strings and evaluates to suitable type"
   ]
  },
  {
   "cell_type": "code",
   "execution_count": 10,
   "metadata": {},
   "outputs": [
    {
     "name": "stdout",
     "output_type": "stream",
     "text": [
      "enter some expression4-9\n",
      "-5\n",
      "<class 'int'>\n"
     ]
    }
   ],
   "source": [
    "res = input('enter some expression')\n",
    "result = eval(res)\n",
    "print(result)\n",
    "print(type(result))"
   ]
  },
  {
   "cell_type": "code",
   "execution_count": 13,
   "metadata": {},
   "outputs": [
    {
     "name": "stdout",
     "output_type": "stream",
     "text": [
      "enter list[1,2]\n",
      "<class 'str'>\n"
     ]
    }
   ],
   "source": [
    "x = input('enter list');print(type(x))"
   ]
  },
  {
   "cell_type": "code",
   "execution_count": 15,
   "metadata": {},
   "outputs": [
    {
     "name": "stdout",
     "output_type": "stream",
     "text": [
      "enter list(1,2,3)\n",
      "<class 'tuple'>\n"
     ]
    }
   ],
   "source": [
    "x = eval(input('enter list'));print(type(x))  # eval converts to respective\n",
    "                                              # typye  automatically"
   ]
  },
  {
   "cell_type": "code",
   "execution_count": 18,
   "metadata": {},
   "outputs": [
    {
     "name": "stdout",
     "output_type": "stream",
     "text": [
      "enter some heterogenous objects1,2.2,False,'str'\n",
      "<class 'int'>\n",
      "<class 'float'>\n",
      "<class 'bool'>\n",
      "<class 'str'>\n"
     ]
    }
   ],
   "source": [
    "l = [eval(x) for x in input('enter some heterogenous objects').split(',')]\n",
    "for x in l:\n",
    "    print(type(x))"
   ]
  },
  {
   "cell_type": "markdown",
   "metadata": {},
   "source": [
    "#### Command Line arguments:\n",
    "\n",
    "* argv -- predefined value present in 'sys' module \n",
    "* argv - > list type\n",
    "* we can apply slicing on this argv as we use slicing in list\n"
   ]
  },
  {
   "cell_type": "code",
   "execution_count": 26,
   "metadata": {},
   "outputs": [
    {
     "name": "stdout",
     "output_type": "stream",
     "text": [
      "<class 'list'>\n",
      "['C:\\\\Users\\\\satis\\\\Anaconda3\\\\lib\\\\site-packages\\\\ipykernel_launcher.py', '-f', 'C:\\\\Users\\\\satis\\\\AppData\\\\Roaming\\\\jupyter\\\\runtime\\\\kernel-38eccbe2-d3e5-4a95-bec5-4124d3c8894b.json']\n",
      "each C:\\Users\\satis\\Anaconda3\\lib\\site-packages\\ipykernel_launcher.py\n",
      "each -f\n",
      "each C:\\Users\\satis\\AppData\\Roaming\\jupyter\\runtime\\kernel-38eccbe2-d3e5-4a95-bec5-4124d3c8894b.json\n"
     ]
    }
   ],
   "source": [
    "from sys import argv\n",
    "print(type(argv))    \n",
    "print(argv)  # it inclues name of the file along with arguments\n",
    "\n",
    "for e in argv:print('each ' + e)"
   ]
  },
  {
   "cell_type": "code",
   "execution_count": 27,
   "metadata": {},
   "outputs": [
    {
     "name": "stdout",
     "output_type": "stream",
     "text": [
      "['C:\\\\Users\\\\satis\\\\Anaconda3\\\\lib\\\\site-packages\\\\ipykernel_launcher.py', '-f', 'C:\\\\Users\\\\satis\\\\AppData\\\\Roaming\\\\jupyter\\\\runtime\\\\kernel-38eccbe2-d3e5-4a95-bec5-4124d3c8894b.json']\n"
     ]
    }
   ],
   "source": [
    "print(argv[0:1000])"
   ]
  },
  {
   "cell_type": "code",
   "execution_count": 28,
   "metadata": {},
   "outputs": [
    {
     "ename": "IndexError",
     "evalue": "list index out of range",
     "output_type": "error",
     "traceback": [
      "\u001b[1;31m---------------------------------------------------------------------------\u001b[0m",
      "\u001b[1;31mIndexError\u001b[0m                                Traceback (most recent call last)",
      "\u001b[1;32m<ipython-input-28-6bca58535c87>\u001b[0m in \u001b[0;36m<module>\u001b[1;34m\u001b[0m\n\u001b[1;32m----> 1\u001b[1;33m \u001b[0mprint\u001b[0m\u001b[1;33m(\u001b[0m\u001b[0margv\u001b[0m\u001b[1;33m[\u001b[0m\u001b[1;36m100\u001b[0m\u001b[1;33m]\u001b[0m\u001b[1;33m)\u001b[0m\u001b[1;33m\u001b[0m\u001b[1;33m\u001b[0m\u001b[0m\n\u001b[0m",
      "\u001b[1;31mIndexError\u001b[0m: list index out of range"
     ]
    }
   ],
   "source": [
    "print(argv[100])  # throw error by using index directly if it is not existed\n",
    "                  # slicing doesn't throw any error"
   ]
  },
  {
   "cell_type": "markdown",
   "metadata": {},
   "source": [
    "###  print() "
   ]
  },
  {
   "cell_type": "code",
   "execution_count": 29,
   "metadata": {},
   "outputs": [
    {
     "name": "stdout",
     "output_type": "stream",
     "text": [
      "satishkumar\n",
      "satish kumar\n"
     ]
    }
   ],
   "source": [
    "print('satish'+'kumar')  # form -2 ( form -1 with no arguments)\n",
    "print('satish','kumar')"
   ]
  },
  {
   "cell_type": "markdown",
   "metadata": {},
   "source": [
    "#### Form -3 : print multiple arguments\n",
    "\n",
    "* sep talks about b/w arguments wheras end talks about b/w lines"
   ]
  },
  {
   "cell_type": "code",
   "execution_count": 33,
   "metadata": {},
   "outputs": [
    {
     "name": "stdout",
     "output_type": "stream",
     "text": [
      "values are  1 2 3\n",
      "values are :1:2:3\n"
     ]
    }
   ],
   "source": [
    "a,b,c = 1,2,3\n",
    "print('values are ',a,b,c)    # defalut separator b/w arguments is space\n",
    "print('values are ',a,b,c,sep=':') # use sep(':') for custome"
   ]
  },
  {
   "cell_type": "code",
   "execution_count": 38,
   "metadata": {},
   "outputs": [
    {
     "name": "stdout",
     "output_type": "stream",
     "text": [
      "hi satish\n",
      "first two are combined by space\n"
     ]
    }
   ],
   "source": [
    "print('hi', end = ' ')  # end talks about multiple lines whereas sep about b/w arguments\n",
    "print('satish')\n",
    "print('first two are combined by space')\n",
    "      "
   ]
  },
  {
   "cell_type": "markdown",
   "metadata": {},
   "source": [
    "####  print(formatted string)\n",
    "* %i = int type\n",
    "* %d = int type\n",
    "* %f = flaot\n",
    "* %s = str type"
   ]
  },
  {
   "cell_type": "code",
   "execution_count": 42,
   "metadata": {},
   "outputs": [
    {
     "name": "stdout",
     "output_type": "stream",
     "text": [
      "a value is 10 and b values is 20.400000 and c values is string\n"
     ]
    }
   ],
   "source": [
    "a,b,c = 10,20.4,'string'\n",
    "print('a value is %d and b values is %f and c values is %s'%(a,b,c))"
   ]
  },
  {
   "cell_type": "code",
   "execution_count": 45,
   "metadata": {},
   "outputs": [
    {
     "name": "stdout",
     "output_type": "stream",
     "text": [
      "values of str is satish and value of l is [1, 2]\n"
     ]
    }
   ],
   "source": [
    "st = 'satish'\n",
    "l=[1,2]\n",
    "print('values of str is %s and value of l is %s'%(st,l)) # no comma b/w %"
   ]
  },
  {
   "cell_type": "markdown",
   "metadata": {},
   "source": [
    "#### print with replacement operator\n",
    "\n",
    "* {} --> replacement operator"
   ]
  },
  {
   "cell_type": "code",
   "execution_count": 48,
   "metadata": {
    "collapsed": true
   },
   "outputs": [
    {
     "name": "stdout",
     "output_type": "stream",
     "text": [
      "hi satish your sal is None and gf is None\n",
      "hi satish your sal is None and gf is None\n",
      "hi satish your sal is None and gf is None\n"
     ]
    }
   ],
   "source": [
    "name = 'satish';sal = None;gf = None\n",
    "print('hi {0} your sal is {1} and gf is {2}'.format(name,sal,gf))\n",
    "print('hi {} your sal is {} and gf is {}'.format(name,sal,gf)) # default\n",
    "print('hi {x} your sal is {y} and gf is {z}'.format(x= name,y=sal,z=gf)) # no worry about\n"
   ]
  },
  {
   "cell_type": "code",
   "execution_count": null,
   "metadata": {},
   "outputs": [],
   "source": []
  }
 ],
 "metadata": {
  "kernelspec": {
   "display_name": "Python 3",
   "language": "python",
   "name": "python3"
  },
  "language_info": {
   "codemirror_mode": {
    "name": "ipython",
    "version": 3
   },
   "file_extension": ".py",
   "mimetype": "text/x-python",
   "name": "python",
   "nbconvert_exporter": "python",
   "pygments_lexer": "ipython3",
   "version": "3.7.4"
  }
 },
 "nbformat": 4,
 "nbformat_minor": 2
}
