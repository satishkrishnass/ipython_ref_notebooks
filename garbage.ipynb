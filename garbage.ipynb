{
 "cells": [
  {
   "cell_type": "code",
   "execution_count": 1,
   "metadata": {},
   "outputs": [
    {
     "name": "stdout",
     "output_type": "stream",
     "text": [
      "True\n",
      "False\n",
      "True\n"
     ]
    }
   ],
   "source": [
    "# gc module\n",
    "# gc.isenabled()\n",
    "# gc.disable()\n",
    "# gc.enable()\n",
    "\n",
    "import gc\n",
    "print(gc.isenabled())\n",
    "gc.disable()\n",
    "print(gc.isenabled())\n",
    "gc.enable()\n",
    "print(gc.isenabled())"
   ]
  },
  {
   "cell_type": "markdown",
   "metadata": {},
   "source": [
    "####  Destructors:\n",
    "\n",
    "* garbage collector call's destructor just before destroying obj.\n",
    "* destructor job is to perform clean up activities."
   ]
  },
  {
   "cell_type": "code",
   "execution_count": 9,
   "metadata": {},
   "outputs": [
    {
     "name": "stdout",
     "output_type": "stream",
     "text": [
      "object initilization...\n",
      "fulfilling last wish\n",
      "4\n",
      "end\n"
     ]
    }
   ],
   "source": [
    "# __del__(self): --> destructor name\n",
    "import sys\n",
    "import time\n",
    "class Test:\n",
    "    def __init__(self):\n",
    "        print('object initilization...')\n",
    "    def __del__(self):\n",
    "        print('fulfilling last wish')\n",
    "    \n",
    "t=Test()\n",
    "t2=t\n",
    "t3=t\n",
    "print(sys.getrefcount(t))\n",
    "print('end')"
   ]
  },
  {
   "cell_type": "code",
   "execution_count": null,
   "metadata": {},
   "outputs": [],
   "source": []
  },
  {
   "cell_type": "code",
   "execution_count": null,
   "metadata": {},
   "outputs": [],
   "source": []
  }
 ],
 "metadata": {
  "kernelspec": {
   "display_name": "Python 3",
   "language": "python",
   "name": "python3"
  },
  "language_info": {
   "codemirror_mode": {
    "name": "ipython",
    "version": 3
   },
   "file_extension": ".py",
   "mimetype": "text/x-python",
   "name": "python",
   "nbconvert_exporter": "python",
   "pygments_lexer": "ipython3",
   "version": "3.7.4"
  }
 },
 "nbformat": 4,
 "nbformat_minor": 2
}
