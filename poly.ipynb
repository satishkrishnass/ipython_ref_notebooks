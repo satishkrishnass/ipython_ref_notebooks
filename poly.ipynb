{
 "cells": [
  {
   "cell_type": "markdown",
   "metadata": {},
   "source": [
    "### Polymorphism:\n",
    "\n",
    "1. Overloading\n",
    "2. Overriding\n"
   ]
  },
  {
   "cell_type": "markdown",
   "metadata": {},
   "source": [
    "#### Operator Overloading:\n",
    "\n",
    "** below are python specific, we can't change names of these ... google it for remaining methods\n",
    "\n",
    "* __add__()\n",
    "* __sub__()\n",
    "* __mul__()\n",
    "* __div__()\n",
    "* __floordiv__()\n",
    "* __pow__()\n",
    "\n",
    "#### similarly for all operators we can do"
   ]
  },
  {
   "cell_type": "code",
   "execution_count": 7,
   "metadata": {},
   "outputs": [
    {
     "name": "stdout",
     "output_type": "stream",
     "text": [
      "144\n"
     ]
    }
   ],
   "source": [
    "class Book:\n",
    "    def __init__(self,pages):\n",
    "        self.pages = pages\n",
    "    def __add__(self,other):\n",
    "        return self.pages+other.pages\n",
    "b1=Book(122)\n",
    "b2=Book(22)\n",
    "print(b1+b2)\n"
   ]
  },
  {
   "cell_type": "code",
   "execution_count": 3,
   "metadata": {},
   "outputs": [
    {
     "ename": "TypeError",
     "evalue": "unsupported operand type(s) for +: 'int' and 'Book'",
     "output_type": "error",
     "traceback": [
      "\u001b[1;31m---------------------------------------------------------------------------\u001b[0m",
      "\u001b[1;31mTypeError\u001b[0m                                 Traceback (most recent call last)",
      "\u001b[1;32m<ipython-input-3-9ff84579730e>\u001b[0m in \u001b[0;36m<module>\u001b[1;34m\u001b[0m\n\u001b[0;32m      1\u001b[0m \u001b[0mb3\u001b[0m\u001b[1;33m=\u001b[0m\u001b[0mBook\u001b[0m\u001b[1;33m(\u001b[0m\u001b[1;36m44\u001b[0m\u001b[1;33m)\u001b[0m\u001b[1;33m\u001b[0m\u001b[1;33m\u001b[0m\u001b[0m\n\u001b[1;32m----> 2\u001b[1;33m \u001b[0mprint\u001b[0m\u001b[1;33m(\u001b[0m\u001b[0mb1\u001b[0m\u001b[1;33m+\u001b[0m\u001b[0mb2\u001b[0m\u001b[1;33m+\u001b[0m\u001b[0mb3\u001b[0m\u001b[1;33m)\u001b[0m  \u001b[1;31m# b1+b2 - integer + obj .( so method should be imp universal)\u001b[0m\u001b[1;33m\u001b[0m\u001b[1;33m\u001b[0m\u001b[0m\n\u001b[0m",
      "\u001b[1;31mTypeError\u001b[0m: unsupported operand type(s) for +: 'int' and 'Book'"
     ]
    }
   ],
   "source": [
    "b3=Book(44)\n",
    "print(b1+b2+b3)  # b1+b2 - integer + obj .( so method should be imp universal)"
   ]
  },
  {
   "cell_type": "code",
   "execution_count": 14,
   "metadata": {},
   "outputs": [],
   "source": [
    "# whenever we called + operator then __add__() method will be called\n",
    "# + return type is whatever __add__() method will be returned\n",
    "# whenever we are printing object then  __str__() magic method will be called"
   ]
  },
  {
   "cell_type": "code",
   "execution_count": 12,
   "metadata": {},
   "outputs": [
    {
     "name": "stdout",
     "output_type": "stream",
     "text": [
      "The no of pages in this 1065\n"
     ]
    }
   ],
   "source": [
    "class Book:\n",
    "    def __init__(self,pages):\n",
    "        self.pages = pages\n",
    "    def __str__(self):\n",
    "        return 'The no of pages in this is  '+ str(self.pages)\n",
    "    def __add__(self,other):\n",
    "        total = self.pages + other.pages\n",
    "        b = Book(total)\n",
    "        return b\n",
    "b1=Book(344)\n",
    "b2=Book(122,)\n",
    "b3=Book(599,)\n",
    "print(b1+b2+b3)\n",
    "        "
   ]
  },
  {
   "cell_type": "code",
   "execution_count": 15,
   "metadata": {},
   "outputs": [
    {
     "ename": "TypeError",
     "evalue": "unsupported operand type(s) for *: 'Employee' and 'Timesheet'",
     "output_type": "error",
     "traceback": [
      "\u001b[1;31m---------------------------------------------------------------------------\u001b[0m",
      "\u001b[1;31mTypeError\u001b[0m                                 Traceback (most recent call last)",
      "\u001b[1;32m<ipython-input-15-08dee122b117>\u001b[0m in \u001b[0;36m<module>\u001b[1;34m\u001b[0m\n\u001b[0;32m     13\u001b[0m \u001b[0me\u001b[0m \u001b[1;33m=\u001b[0m \u001b[0mEmployee\u001b[0m\u001b[1;33m(\u001b[0m\u001b[1;34m'satya'\u001b[0m\u001b[1;33m,\u001b[0m\u001b[1;36m800\u001b[0m\u001b[1;33m)\u001b[0m\u001b[1;33m\u001b[0m\u001b[1;33m\u001b[0m\u001b[0m\n\u001b[0;32m     14\u001b[0m \u001b[0mt\u001b[0m\u001b[1;33m=\u001b[0m \u001b[0mTimesheet\u001b[0m\u001b[1;33m(\u001b[0m\u001b[1;34m'satya'\u001b[0m\u001b[1;33m,\u001b[0m\u001b[1;36m28\u001b[0m\u001b[1;33m)\u001b[0m\u001b[1;33m\u001b[0m\u001b[1;33m\u001b[0m\u001b[0m\n\u001b[1;32m---> 15\u001b[1;33m \u001b[0mprint\u001b[0m\u001b[1;33m(\u001b[0m\u001b[1;34m'total sal '\u001b[0m\u001b[1;33m,\u001b[0m\u001b[0me\u001b[0m\u001b[1;33m*\u001b[0m\u001b[0mt\u001b[0m\u001b[1;33m)\u001b[0m\u001b[1;33m\u001b[0m\u001b[1;33m\u001b[0m\u001b[0m\n\u001b[0m",
      "\u001b[1;31mTypeError\u001b[0m: unsupported operand type(s) for *: 'Employee' and 'Timesheet'"
     ]
    }
   ],
   "source": [
    "## for different objects\n",
    "\n",
    "class Employee:\n",
    "    def __init__(self,name,sal):\n",
    "        self.name = name\n",
    "        self.sal = sal\n",
    "    \n",
    "class Timesheet:\n",
    "    def __init__(self,name,days):\n",
    "        self.name = name\n",
    "        self.days = days\n",
    "    \n",
    "e = Employee('satya',800)\n",
    "t= Timesheet('satya',28)\n",
    "print('total sal ',e*t)\n"
   ]
  },
  {
   "cell_type": "code",
   "execution_count": 17,
   "metadata": {},
   "outputs": [
    {
     "name": "stdout",
     "output_type": "stream",
     "text": [
      "if first obj ref is employee and second one is time 22400\n",
      "if first one is timesheet obj ref and then em 22400\n"
     ]
    }
   ],
   "source": [
    "## for different objects\n",
    "\n",
    "class Employee:\n",
    "    def __init__(self,name,sal):\n",
    "        self.name = name\n",
    "        self.sal = sal\n",
    "    def __mul__(self,o):\n",
    "        return self.sal*o.days\n",
    "    \n",
    "    \n",
    "class Timesheet:\n",
    "    def __init__(self,name,days):\n",
    "        self.name = name\n",
    "        self.days = days\n",
    "    def __mul__(self,other):\n",
    "        return self.days*other.sal\n",
    "    \n",
    "e = Employee('satya',800)\n",
    "t= Timesheet('satya',28)\n",
    "print('if first obj ref is employee and second one is time',e*t)\n",
    "print('if first one is timesheet obj ref and then em',t*e)\n"
   ]
  },
  {
   "cell_type": "markdown",
   "metadata": {},
   "source": [
    "###  Method overloading: ( no need actually)\n",
    "\n",
    "* method overloading is not applicable in python as type is not mentioned      explicitly in python, so every method with same with diff type will be      considered as single \n",
    "* if we want we can use default or var-length arg's to meet those requiremt's"
   ]
  },
  {
   "cell_type": "code",
   "execution_count": 43,
   "metadata": {},
   "outputs": [
    {
     "name": "stdout",
     "output_type": "stream",
     "text": [
      "6\n",
      "52\n"
     ]
    }
   ],
   "source": [
    "class Test:\n",
    "    def sum(self,a=None,b=None,c=None):\n",
    "        if a!=None and b!=None and c!=None:\n",
    "            print(a+b+c)\n",
    "        else: return 0\n",
    "        \n",
    "        \n",
    "        \n",
    "t = Test()\n",
    "t.sum(1,2,3)\n",
    "\n",
    "class T:\n",
    "    def sum(self,*a):\n",
    "        total =0\n",
    "        for i in a:\n",
    "            total = total+i\n",
    "        print(total)\n",
    "        \n",
    "l  = T()\n",
    "l.sum(1,2,44,5)"
   ]
  },
  {
   "cell_type": "code",
   "execution_count": 45,
   "metadata": {},
   "outputs": [
    {
     "name": "stdout",
     "output_type": "stream",
     "text": [
      "do what ever you want\n"
     ]
    }
   ],
   "source": [
    "# constructor overloading\n",
    "\n",
    "class Test:\n",
    "    def __init__(self,*a):\n",
    "        print('do what ever you want')\n",
    "    \n",
    "t = Test(2,3,4,4)"
   ]
  },
  {
   "cell_type": "markdown",
   "metadata": {},
   "source": [
    "### Method overriding\n",
    "\n"
   ]
  },
  {
   "cell_type": "code",
   "execution_count": 47,
   "metadata": {},
   "outputs": [
    {
     "name": "stdout",
     "output_type": "stream",
     "text": [
      "child may\n"
     ]
    }
   ],
   "source": [
    "class P:\n",
    "    def marry(self):\n",
    "        print('parent mary')\n",
    "class C(P):\n",
    "    def marry(self):\n",
    "        print('child may')\n",
    "        \n",
    "        \n",
    "c= C()\n",
    "c.marry()  # - overriding"
   ]
  },
  {
   "cell_type": "code",
   "execution_count": null,
   "metadata": {},
   "outputs": [],
   "source": []
  }
 ],
 "metadata": {
  "kernelspec": {
   "display_name": "Python 3",
   "language": "python",
   "name": "python3"
  },
  "language_info": {
   "codemirror_mode": {
    "name": "ipython",
    "version": 3
   },
   "file_extension": ".py",
   "mimetype": "text/x-python",
   "name": "python",
   "nbconvert_exporter": "python",
   "pygments_lexer": "ipython3",
   "version": "3.7.4"
  }
 },
 "nbformat": 4,
 "nbformat_minor": 2
}
