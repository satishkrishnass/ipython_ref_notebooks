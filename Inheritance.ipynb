{
 "cells": [
  {
   "cell_type": "markdown",
   "metadata": {},
   "source": [
    "###  Inheritance:\n",
    "\n",
    "* code reusabilty\n",
    "* existing functionality we can extend\n",
    "\n",
    "* if we want to use members of one class inside another class\n",
    "\n",
    "##### then there are two ways\n",
    "\n",
    "1. composition ( Has-A relationship )\n",
    "2. Inheritance ( Is-A relationship )"
   ]
  },
  {
   "cell_type": "markdown",
   "metadata": {},
   "source": [
    "####  Composition:\n",
    " \n",
    " * by using class name or by creating obj we can access members of one class inside another class --- composition\n",
    " \n",
    "#### advantage\n",
    "* code reusability"
   ]
  },
  {
   "cell_type": "code",
   "execution_count": 6,
   "metadata": {},
   "outputs": [
    {
     "name": "stdout",
     "output_type": "stream",
     "text": [
      "class car using engine class functionality\n",
      "40\n",
      "10\n",
      "engine specific functionality\n"
     ]
    }
   ],
   "source": [
    "# car has a engine reference \n",
    "\n",
    "class Engine:\n",
    "    a = 10\n",
    "    def __init__(self):\n",
    "        self.b=40\n",
    "    def m1(self):\n",
    "        print('engine specific functionality')\n",
    "        \n",
    "class Car:\n",
    "    def __init__(self):\n",
    "        self.engine=Engine()\n",
    "    def m2(self):\n",
    "        print('class car using engine class functionality')\n",
    "        print(self.engine.b)\n",
    "        print(Engine.a)\n",
    "        self.engine.m1()\n",
    "        \n",
    "c = Car()\n",
    "c.m2()"
   ]
  },
  {
   "cell_type": "markdown",
   "metadata": {},
   "source": [
    "####   is - a relation :\n",
    "\n",
    "* whatever members,methods present in parent class will be available and accesseble in child class"
   ]
  },
  {
   "cell_type": "code",
   "execution_count": 8,
   "metadata": {},
   "outputs": [
    {
     "name": "stdout",
     "output_type": "stream",
     "text": [
      "5\n"
     ]
    }
   ],
   "source": [
    "class Parent:\n",
    "    a =4\n",
    "    def __init__(self):\n",
    "        self.b = 5\n",
    "class Child(Parent):\n",
    "    pass\n",
    "c = Child()\n",
    "print(c.b)"
   ]
  },
  {
   "cell_type": "markdown",
   "metadata": {},
   "source": [
    "### Object ---> class is parent for all classes implicitly"
   ]
  },
  {
   "cell_type": "code",
   "execution_count": 14,
   "metadata": {},
   "outputs": [
    {
     "ename": "AttributeError",
     "evalue": "'C' object has no attribute 'b'",
     "output_type": "error",
     "traceback": [
      "\u001b[1;31m---------------------------------------------------------------------------\u001b[0m",
      "\u001b[1;31mAttributeError\u001b[0m                            Traceback (most recent call last)",
      "\u001b[1;32m<ipython-input-14-960d5e0e16f9>\u001b[0m in \u001b[0;36m<module>\u001b[1;34m\u001b[0m\n\u001b[0;32m      8\u001b[0m         \u001b[0mself\u001b[0m\u001b[1;33m.\u001b[0m\u001b[0md\u001b[0m\u001b[1;33m=\u001b[0m\u001b[1;36m7\u001b[0m\u001b[1;33m\u001b[0m\u001b[1;33m\u001b[0m\u001b[0m\n\u001b[0;32m      9\u001b[0m \u001b[0mc\u001b[0m\u001b[1;33m=\u001b[0m\u001b[0mC\u001b[0m\u001b[1;33m(\u001b[0m\u001b[1;33m)\u001b[0m\u001b[1;33m\u001b[0m\u001b[1;33m\u001b[0m\u001b[0m\n\u001b[1;32m---> 10\u001b[1;33m \u001b[0mprint\u001b[0m\u001b[1;33m(\u001b[0m\u001b[0mc\u001b[0m\u001b[1;33m.\u001b[0m\u001b[0mb\u001b[0m\u001b[1;33m)\u001b[0m\u001b[1;33m\u001b[0m\u001b[1;33m\u001b[0m\u001b[0m\n\u001b[0m",
      "\u001b[1;31mAttributeError\u001b[0m: 'C' object has no attribute 'b'"
     ]
    }
   ],
   "source": [
    "class P:\n",
    "    a = 4\n",
    "    def __init__(self):\n",
    "        self.b=5\n",
    "class C(P):\n",
    "    c = 6\n",
    "    def __init__(self):   # this one excutes than parent constuctor so b is not available\n",
    "        self.d=7\n",
    "c=C()\n",
    "print(c.b)  "
   ]
  },
  {
   "cell_type": "code",
   "execution_count": 5,
   "metadata": {},
   "outputs": [
    {
     "name": "stdout",
     "output_type": "stream",
     "text": [
      " details of parent told by child is  satya\n",
      "5\n"
     ]
    }
   ],
   "source": [
    "class Parent:\n",
    "    a = 4\n",
    "    def __init__(self,name,age):\n",
    "        self.name = name\n",
    "        self.age = age\n",
    "        self.b=5\n",
    "    def info(self):\n",
    "        print(' details of parent told by child is ',self.name)\n",
    "class Child(Parent):\n",
    "    c = 6\n",
    "    def __init__(self,name,age): \n",
    "        super().__init__(name,age)  # ----> which is used to run parent constructor\n",
    "        self.d=7\n",
    "c=Child('satya',24)\n",
    "c.info()\n",
    "print(c.b)  "
   ]
  },
  {
   "cell_type": "markdown",
   "metadata": {},
   "source": [
    "####  When we should go for is - A and has - A:\n",
    "\n",
    "* to extend we will go for-  is - A ; ex: person - employee\n",
    "* to use existing  - has - A; ex: person  - car"
   ]
  },
  {
   "cell_type": "markdown",
   "metadata": {},
   "source": [
    "###  Composition vs Aggregation:\n",
    "\n",
    "* University has - a department\n",
    "* Department has - a professor "
   ]
  },
  {
   "cell_type": "markdown",
   "metadata": {},
   "source": [
    "####  Composition:\n",
    "\n",
    "* without existing container object, then there is no chance of existing contained object -- strongly associated\n",
    "\n",
    "** ex: University has a department\n",
    "#### Aggregation :\n",
    "\n",
    "* without existing container object, then there is a chance of existing contained object -- weekly associated\n",
    "\n",
    "** ex: Department has a professor\n",
    "\n"
   ]
  },
  {
   "cell_type": "markdown",
   "metadata": {},
   "source": [
    "#### Types of inheritance:\n",
    "\n",
    "1. single inheritance  ( one to one)\n",
    "2. multi level inheritance ( multi level one to one to one ..)\n",
    "3. hierarchical ( one to many)\n",
    "4. multiple  ( many to one)\n",
    "5. hybri ( using more than one type of inheritance)\n",
    "6. cyclic - not allowed"
   ]
  },
  {
   "cell_type": "code",
   "execution_count": 8,
   "metadata": {
    "scrolled": true
   },
   "outputs": [
    {
     "name": "stdout",
     "output_type": "stream",
     "text": [
      "order wise - p1\n",
      "order wise - p2 \n"
     ]
    }
   ],
   "source": [
    "# multiple\n",
    "class P1:\n",
    "    def m(self):\n",
    "        print( 'order wise - p1')\n",
    "class P2:\n",
    "    def m(self):\n",
    "        print('order wise - p2 ')\n",
    "class C(P1,P2):\n",
    "    pass\n",
    "c = C()\n",
    "c.m()\n",
    "\n",
    "class Chil(P2,P1):\n",
    "    pass\n",
    "ch= Chil()\n",
    "ch.m()"
   ]
  },
  {
   "cell_type": "markdown",
   "metadata": {},
   "source": [
    "#### MRO ----- method resolution order ( DLR) - depth and from left to right"
   ]
  },
  {
   "cell_type": "code",
   "execution_count": 11,
   "metadata": {},
   "outputs": [
    {
     "name": "stdout",
     "output_type": "stream",
     "text": [
      "[<class '__main__.A'>, <class 'object'>]\n",
      "[<class '__main__.B'>, <class '__main__.A'>, <class 'object'>]\n",
      "[<class '__main__.D'>, <class '__main__.B'>, <class '__main__.C'>, <class '__main__.A'>, <class 'object'>]\n"
     ]
    }
   ],
   "source": [
    "class A:pass\n",
    "class B(A):pass\n",
    "class C(A):pass\n",
    "class D(B,C):pass\n",
    "print(A.mro())\n",
    "print(B.mro())\n",
    "print(D.mro())"
   ]
  },
  {
   "cell_type": "markdown",
   "metadata": {},
   "source": [
    "### C3 algorithm:\n",
    "\n",
    "* image in notes: and below is the example"
   ]
  },
  {
   "cell_type": "code",
   "execution_count": 12,
   "metadata": {},
   "outputs": [
    {
     "name": "stdout",
     "output_type": "stream",
     "text": [
      "[<class '__main__.P'>, <class '__main__.X'>, <class '__main__.Y'>, <class '__main__.A'>, <class '__main__.B'>, <class '__main__.C'>, <class 'object'>]\n"
     ]
    }
   ],
   "source": [
    "class A:pass\n",
    "class B:pass\n",
    "class C: pass\n",
    "class X(A,B):pass\n",
    "class Y(A,B): pass\n",
    "class P(X,Y,C):pass\n",
    "print(P.mro())"
   ]
  },
  {
   "cell_type": "markdown",
   "metadata": {},
   "source": [
    "*  mro(P) = P + Merge(mro(X),mro(Y),mro(C),XYC)\n",
    "*  mro(P) = P + Merge(XABO,YBCO,CO,XYC)\n",
    "*           P + X +Merge(ABO,YBCO,CO,YC)\n",
    "*           P + X+A+Merge(BO,YBCO,CO,YC) -- B is present in tail of other   *                                               so leave that list <BO\n",
    "*           P +X+A+Y+Merge(BO,BCO,CO,C)\n",
    "*           P +X+A+Y+B+Merge(O,CO,CO,C)\n",
    "*           P +X+A+Y+B+C+O\n",
    "\n",
    "\n",
    "\n",
    "\n",
    "\n",
    "\n",
    "* for ex: ABCDEF\n",
    "* Head element: A\n",
    "* tail element: BCDEF\n",
    "\n",
    "\n",
    "##### -------------------\n",
    "\n",
    "1. If head element of first list not present in the tail part of any other list then consider that element in the result and remove that element from all the lists.\n"
   ]
  },
  {
   "cell_type": "markdown",
   "metadata": {},
   "source": [
    "####  Super():\n",
    "\n",
    "* from child class to call parent class members"
   ]
  },
  {
   "cell_type": "code",
   "execution_count": 3,
   "metadata": {},
   "outputs": [
    {
     "data": {
      "text/plain": [
       "22"
      ]
     },
     "execution_count": 3,
     "metadata": {},
     "output_type": "execute_result"
    }
   ],
   "source": [
    "## member level\n",
    "\n",
    "class Person:\n",
    "    def __init__(self,name,age):\n",
    "        self.name = name\n",
    "        self.age = age\n",
    "class Student(Person):\n",
    "    def __init__(self,name,age,rollno):\n",
    "        super().__init__(name,age)     # --------------------->super()\n",
    "        self.rollno= rollno\n",
    "class Teacher(Person):\n",
    "    def __init__(self,name,age,subject):\n",
    "        super().__init__(name,age)  \n",
    "        self.subject = subject\n",
    "c = Teacher('satya',22,'pyshics')\n",
    "c.age"
   ]
  },
  {
   "cell_type": "code",
   "execution_count": 4,
   "metadata": {
    "scrolled": true
   },
   "outputs": [
    {
     "name": "stdout",
     "output_type": "stream",
     "text": [
      " name and age  satya    24\n",
      " child display 39 \n"
     ]
    }
   ],
   "source": [
    "## method level\n",
    "\n",
    "class Person:\n",
    "    def __init__(self,name,age):\n",
    "        self.name = name\n",
    "        self.age = age\n",
    "    def display(self):\n",
    "        print(' name and age ',self.name , '  ', self.age)\n",
    "class Student(Person):\n",
    "    def __init__(self,name,age,rollno):\n",
    "        super().__init__(name,age)     \n",
    "        self.rollno= rollno\n",
    "    def display(self):\n",
    "        super().display()         # --------------------->super()\n",
    "        print(' child display', self.rollno ,'')\n",
    "        \n",
    "s = Student('satya',24,39)\n",
    "s.display()"
   ]
  },
  {
   "cell_type": "code",
   "execution_count": 6,
   "metadata": {},
   "outputs": [
    {
     "name": "stdout",
     "output_type": "stream",
     "text": [
      "d \n"
     ]
    }
   ],
   "source": [
    "## loops\n",
    "\n",
    "class A:\n",
    "    def m1(self):\n",
    "        print( 'a ')\n",
    "class B(A):\n",
    "    def m1(self):\n",
    "        print( 'b ')\n",
    "class C(B):\n",
    "    def m1(self):\n",
    "        print( 'c ')\n",
    "class D(C):\n",
    "    def m1(self):\n",
    "        print( 'd ')\n",
    "class E(D):\n",
    "    def m1(self):\n",
    "        super().m1()\n",
    "e= E()\n",
    "e.m1()\n"
   ]
  },
  {
   "cell_type": "code",
   "execution_count": 8,
   "metadata": {},
   "outputs": [
    {
     "name": "stdout",
     "output_type": "stream",
     "text": [
      "b \n"
     ]
    }
   ],
   "source": [
    "# to call perticular class m1 method then there are two ways:\n",
    "# classname.methodname() or super(classname(its superclass method),self).m1()\n",
    "class A:\n",
    "    def m1(self):\n",
    "        print( 'a ')\n",
    "class B(A):\n",
    "    def m1(self):\n",
    "        print( 'b ')\n",
    "class C(B):\n",
    "    def m1(self):\n",
    "        print( 'c ')\n",
    "class D(C):\n",
    "    def m1(self):\n",
    "        print( 'd ')\n",
    "class E(D):\n",
    "    def m1(self):\n",
    "        B.m1(self)\n",
    "        \n",
    "e= E()\n",
    "e.m1()\n"
   ]
  },
  {
   "cell_type": "code",
   "execution_count": 9,
   "metadata": {},
   "outputs": [
    {
     "name": "stdout",
     "output_type": "stream",
     "text": [
      "b \n"
     ]
    }
   ],
   "source": [
    "class A:\n",
    "    def m1(self):\n",
    "        print( 'a ')\n",
    "class B(A):\n",
    "    def m1(self):\n",
    "        print( 'b ')\n",
    "class C(B):\n",
    "    def m1(self):\n",
    "        print( 'c ')\n",
    "class D(C):\n",
    "    def m1(self):\n",
    "        print( 'd ')\n",
    "class E(D):\n",
    "    def m1(self):\n",
    "        super(C,self).m1()\n",
    "        \n",
    "e= E()\n",
    "e.m1()\n"
   ]
  },
  {
   "cell_type": "code",
   "execution_count": 15,
   "metadata": {},
   "outputs": [
    {
     "name": "stdout",
     "output_type": "stream",
     "text": [
      "6\n"
     ]
    },
    {
     "ename": "AttributeError",
     "evalue": "'super' object has no attribute 'b'",
     "output_type": "error",
     "traceback": [
      "\u001b[1;31m---------------------------------------------------------------------------\u001b[0m",
      "\u001b[1;31mAttributeError\u001b[0m                            Traceback (most recent call last)",
      "\u001b[1;32m<ipython-input-15-d253ead66e72>\u001b[0m in \u001b[0;36m<module>\u001b[1;34m\u001b[0m\n\u001b[0;32m      9\u001b[0m \u001b[1;33m\u001b[0m\u001b[0m\n\u001b[0;32m     10\u001b[0m \u001b[0mc\u001b[0m \u001b[1;33m=\u001b[0m \u001b[0mChild\u001b[0m\u001b[1;33m(\u001b[0m\u001b[1;33m)\u001b[0m\u001b[1;33m\u001b[0m\u001b[1;33m\u001b[0m\u001b[0m\n\u001b[1;32m---> 11\u001b[1;33m \u001b[0mc\u001b[0m\u001b[1;33m.\u001b[0m\u001b[0mm1\u001b[0m\u001b[1;33m(\u001b[0m\u001b[1;33m)\u001b[0m\u001b[1;33m\u001b[0m\u001b[1;33m\u001b[0m\u001b[0m\n\u001b[0m\u001b[0;32m     12\u001b[0m \u001b[1;33m\u001b[0m\u001b[0m\n",
      "\u001b[1;32m<ipython-input-15-d253ead66e72>\u001b[0m in \u001b[0;36mm1\u001b[1;34m(self)\u001b[0m\n\u001b[0;32m      6\u001b[0m     \u001b[1;32mdef\u001b[0m \u001b[0mm1\u001b[0m\u001b[1;33m(\u001b[0m\u001b[0mself\u001b[0m\u001b[1;33m)\u001b[0m\u001b[1;33m:\u001b[0m\u001b[1;33m\u001b[0m\u001b[1;33m\u001b[0m\u001b[0m\n\u001b[0;32m      7\u001b[0m         \u001b[0mprint\u001b[0m\u001b[1;33m(\u001b[0m\u001b[0msuper\u001b[0m\u001b[1;33m(\u001b[0m\u001b[1;33m)\u001b[0m\u001b[1;33m.\u001b[0m\u001b[0ma\u001b[0m\u001b[1;33m)\u001b[0m\u001b[1;33m\u001b[0m\u001b[1;33m\u001b[0m\u001b[0m\n\u001b[1;32m----> 8\u001b[1;33m         \u001b[0mprint\u001b[0m\u001b[1;33m(\u001b[0m\u001b[0msuper\u001b[0m\u001b[1;33m(\u001b[0m\u001b[1;33m)\u001b[0m\u001b[1;33m.\u001b[0m\u001b[0mb\u001b[0m\u001b[1;33m)\u001b[0m   \u001b[1;31m# ---by using super ,instance variables can't be accessed\u001b[0m\u001b[1;33m\u001b[0m\u001b[1;33m\u001b[0m\u001b[0m\n\u001b[0m\u001b[0;32m      9\u001b[0m \u001b[1;33m\u001b[0m\u001b[0m\n\u001b[0;32m     10\u001b[0m \u001b[0mc\u001b[0m \u001b[1;33m=\u001b[0m \u001b[0mChild\u001b[0m\u001b[1;33m(\u001b[0m\u001b[1;33m)\u001b[0m\u001b[1;33m\u001b[0m\u001b[1;33m\u001b[0m\u001b[0m\n",
      "\u001b[1;31mAttributeError\u001b[0m: 'super' object has no attribute 'b'"
     ]
    }
   ],
   "source": [
    "class Parent:\n",
    "    a= 6\n",
    "    def __init__(self):\n",
    "        self.b = 9\n",
    "class Child(Parent):\n",
    "    def m1(self):\n",
    "        print(super().a)\n",
    "        print(super().b)   # ---by using super ,instance variables can't be accessed\n",
    "        \n",
    "c = Child()\n",
    "c.m1()\n",
    "\n"
   ]
  },
  {
   "cell_type": "code",
   "execution_count": 14,
   "metadata": {},
   "outputs": [
    {
     "name": "stdout",
     "output_type": "stream",
     "text": [
      "6\n",
      "9\n"
     ]
    }
   ],
   "source": [
    "class Parent:\n",
    "    a= 6\n",
    "    def __init__(self):\n",
    "        self.b= 9\n",
    "class Child(Parent):\n",
    "    def m1(self):\n",
    "        print(super().a)\n",
    "        print(self.b)   \n",
    "        \n",
    "c = Child()\n",
    "c.m1()"
   ]
  },
  {
   "cell_type": "markdown",
   "metadata": {},
   "source": [
    "* from child class by using super() we cannot call parent class instance variables, we should use self only.\n",
    "* from child class by using super() method we can call parent class static varibles"
   ]
  },
  {
   "cell_type": "code",
   "execution_count": 23,
   "metadata": {},
   "outputs": [
    {
     "name": "stdout",
     "output_type": "stream",
     "text": [
      "parent const\n"
     ]
    }
   ],
   "source": [
    "class P:\n",
    "    def __init__(self):\n",
    "        print('parent const')\n",
    "    def m1(self):\n",
    "        print('parent instance')\n",
    "    @classmethod\n",
    "    def m2(cls):\n",
    "        print('parent class')\n",
    "    @staticmethod\n",
    "    def m3():\n",
    "        print('parent static')\n",
    "\n",
    "class C(P):\n",
    "    def __init(self):\n",
    "        super().__init__(self)\n",
    "        super().m1(self)\n",
    "        super().m2(self)\n",
    "        super().m3(self)\n",
    "        \n",
    "        \n",
    "c=C()\n"
   ]
  },
  {
   "cell_type": "code",
   "execution_count": null,
   "metadata": {},
   "outputs": [],
   "source": []
  }
 ],
 "metadata": {
  "kernelspec": {
   "display_name": "Python 3",
   "language": "python",
   "name": "python3"
  },
  "language_info": {
   "codemirror_mode": {
    "name": "ipython",
    "version": 3
   },
   "file_extension": ".py",
   "mimetype": "text/x-python",
   "name": "python",
   "nbconvert_exporter": "python",
   "pygments_lexer": "ipython3",
   "version": "3.7.4"
  }
 },
 "nbformat": 4,
 "nbformat_minor": 2
}
