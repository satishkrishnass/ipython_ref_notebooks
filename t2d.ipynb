{
 "cells": [
  {
   "cell_type": "markdown",
   "metadata": {},
   "source": [
    "####  Tuple:\n",
    "\n",
    "##### creating a tuple\n",
    "\n",
    "1. t=()\n",
    "2. t=(10,)\n",
    "3. t= tuple(seq)"
   ]
  },
  {
   "cell_type": "markdown",
   "metadata": {},
   "source": [
    "####  Access elements of tuple:\n",
    "\n",
    "* index or slice\n",
    "\n",
    "* and + are allowed"
   ]
  },
  {
   "cell_type": "markdown",
   "metadata": {},
   "source": [
    "#### Important functions of tuple:\n",
    "\n",
    "1. len(tup)\n",
    "2. count(x)\n",
    "3. index(element) - ValueError if element is not present\n",
    "4. sorted(t) - after sorting it will become list, because list is immutable\n",
    "5. min(tup)\n",
    "6. max(t)"
   ]
  },
  {
   "cell_type": "code",
   "execution_count": 1,
   "metadata": {},
   "outputs": [
    {
     "data": {
      "text/plain": [
       "[1, 3, 5]"
      ]
     },
     "execution_count": 1,
     "metadata": {},
     "output_type": "execute_result"
    }
   ],
   "source": [
    "t=(1,5,3)\n",
    "l = sorted(t)\n",
    "l\n"
   ]
  },
  {
   "cell_type": "code",
   "execution_count": 2,
   "metadata": {},
   "outputs": [
    {
     "ename": "AttributeError",
     "evalue": "'tuple' object has no attribute 'sort'",
     "output_type": "error",
     "traceback": [
      "\u001b[1;31m---------------------------------------------------------------------------\u001b[0m",
      "\u001b[1;31mAttributeError\u001b[0m                            Traceback (most recent call last)",
      "\u001b[1;32m<ipython-input-2-aa7028f729ce>\u001b[0m in \u001b[0;36m<module>\u001b[1;34m\u001b[0m\n\u001b[0;32m      1\u001b[0m \u001b[0mt\u001b[0m\u001b[1;33m=\u001b[0m\u001b[1;33m(\u001b[0m\u001b[1;36m3\u001b[0m\u001b[1;33m,\u001b[0m\u001b[1;36m5\u001b[0m\u001b[1;33m,\u001b[0m\u001b[1;36m1\u001b[0m\u001b[1;33m)\u001b[0m\u001b[1;33m\u001b[0m\u001b[1;33m\u001b[0m\u001b[0m\n\u001b[1;32m----> 2\u001b[1;33m \u001b[0mk\u001b[0m \u001b[1;33m=\u001b[0m \u001b[0mt\u001b[0m\u001b[1;33m.\u001b[0m\u001b[0msort\u001b[0m\u001b[1;33m(\u001b[0m\u001b[1;33m)\u001b[0m\u001b[1;33m\u001b[0m\u001b[1;33m\u001b[0m\u001b[0m\n\u001b[0m",
      "\u001b[1;31mAttributeError\u001b[0m: 'tuple' object has no attribute 'sort'"
     ]
    }
   ],
   "source": [
    "t=(3,5,1)\n",
    "k = t.sort()"
   ]
  },
  {
   "cell_type": "code",
   "execution_count": 3,
   "metadata": {},
   "outputs": [],
   "source": [
    "# cmp(t1,t2) - py-2\n",
    "# return 0 if equal\n",
    "# -1 if <,+1 if >\n"
   ]
  },
  {
   "cell_type": "markdown",
   "metadata": {},
   "source": [
    "####  Tuple packing and unpacking:"
   ]
  },
  {
   "cell_type": "code",
   "execution_count": 4,
   "metadata": {},
   "outputs": [
    {
     "data": {
      "text/plain": [
       "(1, 2, 3)"
      ]
     },
     "execution_count": 4,
     "metadata": {},
     "output_type": "execute_result"
    }
   ],
   "source": [
    "a,b,c=1,2,3\n",
    "t = a,b,c      # tuple packing\n",
    "t"
   ]
  },
  {
   "cell_type": "code",
   "execution_count": 7,
   "metadata": {},
   "outputs": [],
   "source": [
    "a,b,c=t      # unpacking  - applicable for any sequence"
   ]
  },
  {
   "cell_type": "markdown",
   "metadata": {},
   "source": [
    "####  Tuple comprehension  - return generator object but not tuple"
   ]
  },
  {
   "cell_type": "code",
   "execution_count": 13,
   "metadata": {},
   "outputs": [
    {
     "name": "stdout",
     "output_type": "stream",
     "text": [
      "0\n",
      "1\n",
      "4\n",
      "9\n"
     ]
    }
   ],
   "source": [
    "t =( x*x for x in range(4))\n",
    "type(t)\n",
    "for d in t:\n",
    "    print(d)"
   ]
  },
  {
   "cell_type": "markdown",
   "metadata": {},
   "source": [
    "### set:\n",
    "\n",
    "* x =set() - to create empty set\n",
    "* because s = { } - is dictionary\n",
    "* index and slicing are not allowed as order is not preserved\n",
    "* k = set(seq)\n",
    "\n"
   ]
  },
  {
   "cell_type": "markdown",
   "metadata": {},
   "source": [
    "####  Methods of set:\n",
    "\n",
    "1. s.add(ele)  - only one argument\n",
    "2. s.update(list/seqe) ,it doesn't take single normal element\n",
    "3. s.update(x,y,z) - any no of arguments to update\n",
    "4. s.copy() - cloning\n",
    "5. s.pop() - to remove and return the some random element ( as order is not              preserved)\n",
    "6. remove(ele) -  throw error if specified element is not there\n",
    "7. discard(ele) - if ele is not there also no error\n",
    "8. clear()\n"
   ]
  },
  {
   "cell_type": "code",
   "execution_count": 17,
   "metadata": {},
   "outputs": [
    {
     "name": "stdout",
     "output_type": "stream",
     "text": [
      "{1, 'y', 'a', 's', 't'}\n"
     ]
    },
    {
     "ename": "TypeError",
     "evalue": "'int' object is not iterable",
     "output_type": "error",
     "traceback": [
      "\u001b[1;31m---------------------------------------------------------------------------\u001b[0m",
      "\u001b[1;31mTypeError\u001b[0m                                 Traceback (most recent call last)",
      "\u001b[1;32m<ipython-input-17-9665303f2452>\u001b[0m in \u001b[0;36m<module>\u001b[1;34m\u001b[0m\n\u001b[0;32m      2\u001b[0m \u001b[0ms\u001b[0m\u001b[1;33m.\u001b[0m\u001b[0mupdate\u001b[0m\u001b[1;33m(\u001b[0m\u001b[1;34m'satya'\u001b[0m\u001b[1;33m)\u001b[0m\u001b[1;33m\u001b[0m\u001b[1;33m\u001b[0m\u001b[0m\n\u001b[0;32m      3\u001b[0m \u001b[0mprint\u001b[0m\u001b[1;33m(\u001b[0m\u001b[0ms\u001b[0m\u001b[1;33m)\u001b[0m\u001b[1;33m\u001b[0m\u001b[1;33m\u001b[0m\u001b[0m\n\u001b[1;32m----> 4\u001b[1;33m \u001b[0ms\u001b[0m\u001b[1;33m.\u001b[0m\u001b[0mupdate\u001b[0m\u001b[1;33m(\u001b[0m\u001b[1;36m3\u001b[0m\u001b[1;33m)\u001b[0m\u001b[1;33m\u001b[0m\u001b[1;33m\u001b[0m\u001b[0m\n\u001b[0m",
      "\u001b[1;31mTypeError\u001b[0m: 'int' object is not iterable"
     ]
    }
   ],
   "source": [
    "s = {1,}\n",
    "s.update('satya')\n",
    "print(s)\n",
    "s.update(3)"
   ]
  },
  {
   "cell_type": "code",
   "execution_count": 18,
   "metadata": {},
   "outputs": [
    {
     "data": {
      "text/plain": [
       "1"
      ]
     },
     "execution_count": 18,
     "metadata": {},
     "output_type": "execute_result"
    }
   ],
   "source": [
    "s.pop()\n"
   ]
  },
  {
   "cell_type": "markdown",
   "metadata": {},
   "source": [
    "####  Mathematical operations:\n",
    "\n",
    "1. s1.union(s2) or s1|s2\n",
    "2. s1.intersection(s2) or s1&s2\n",
    "3. s1.differene(s2) or s1-s2 \n",
    "4. s.sy mmetric-difference(s2) or s1^s2 - symetricdiffer ( excluding common elements)"
   ]
  },
  {
   "cell_type": "code",
   "execution_count": 19,
   "metadata": {},
   "outputs": [],
   "source": [
    "s1= {1,2,3,4}\n",
    "s2= {3,4,5,6}"
   ]
  },
  {
   "cell_type": "markdown",
   "metadata": {},
   "source": [
    "####  Set comprehension:\n",
    "\n",
    "s = {x*x for x in range(1,6)}"
   ]
  },
  {
   "cell_type": "code",
   "execution_count": 21,
   "metadata": {},
   "outputs": [
    {
     "data": {
      "text/plain": [
       "'ti'"
      ]
     },
     "execution_count": 21,
     "metadata": {},
     "output_type": "execute_result"
    }
   ],
   "source": [
    "d= {1:'sa',2:'ti'}\n",
    "d[2]"
   ]
  },
  {
   "cell_type": "markdown",
   "metadata": {},
   "source": [
    "#### empyt dict: \n",
    "*  d= {}   -  empty dict\n",
    "*  d= dict() - empty dict\n",
    "\n",
    "#### delete\n",
    "\n",
    "* del dict[key]\n",
    "* del d\n",
    "* dict.clear()\n",
    "* del d.keys()\n",
    "\n",
    "#### multi val for single key\n",
    "\n",
    "* dict= {key: list}\n",
    "\n",
    "#### important function:\n",
    "\n",
    "* l.dict()\n",
    "* d = dict(sequene) - sequence with list of tuples,tuple  of tuples,\n",
    "                    - set of tuples - ( as key value pairs)\n",
    "                    \n",
    "                    ----( play with above)\n",
    "* len()\n",
    "* get(key,default= 'value') - if key is not available we will get none, but                               here we will get default value\n",
    "\n",
    "* pop(key) - return and remove\n",
    "* popitem() - any one item will returned and removed.\n",
    "* d.keys()\n",
    "* d.values()\n",
    "* d.items() - key values\n",
    "* d.copy() \n",
    "* d.setdefault(k,v) - if key availabe return that value ( no replacement if\n",
    "                      key is there), \n",
    "                      if key is not available then add this new key-value\n",
    "                      \n",
    "* d.update(dict) / argument list of tuples\n",
    "            \n",
    "                    \n",
    "                   \n"
   ]
  },
  {
   "cell_type": "markdown",
   "metadata": {},
   "source": [
    "####  dict comprehension:\n",
    "\n",
    "* d = { x:x*x for x in range(1,3)}"
   ]
  },
  {
   "cell_type": "code",
   "execution_count": null,
   "metadata": {},
   "outputs": [],
   "source": []
  }
 ],
 "metadata": {
  "kernelspec": {
   "display_name": "Python 3",
   "language": "python",
   "name": "python3"
  },
  "language_info": {
   "codemirror_mode": {
    "name": "ipython",
    "version": 3
   },
   "file_extension": ".py",
   "mimetype": "text/x-python",
   "name": "python",
   "nbconvert_exporter": "python",
   "pygments_lexer": "ipython3",
   "version": "3.7.4"
  }
 },
 "nbformat": 4,
 "nbformat_minor": 2
}
